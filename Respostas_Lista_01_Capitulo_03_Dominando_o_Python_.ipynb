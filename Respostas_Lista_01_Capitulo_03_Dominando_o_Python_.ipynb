{
  "nbformat": 4,
  "nbformat_minor": 0,
  "metadata": {
    "kernelspec": {
      "display_name": "Python 3",
      "language": "python",
      "name": "python3"
    },
    "language_info": {
      "codemirror_mode": {
        "name": "ipython",
        "version": 3
      },
      "file_extension": ".py",
      "mimetype": "text/x-python",
      "name": "python",
      "nbconvert_exporter": "python",
      "pygments_lexer": "ipython3",
      "version": "3.6.5"
    },
    "colab": {
      "name": "Respostas Lista 01 - Capitulo 03 - Dominando o Python .ipynb",
      "provenance": [],
      "toc_visible": true
    }
  },
  "cells": [
    {
      "cell_type": "markdown",
      "metadata": {
        "id": "WXoWoIjy4Bzg",
        "colab_type": "text"
      },
      "source": [
        "# Exercícios - Capítulo Dominando o Python"
      ]
    },
    {
      "cell_type": "markdown",
      "metadata": {
        "id": "IpJrbhWw4Bzj",
        "colab_type": "text"
      },
      "source": [
        "1) Imprima a frase \"Eu sou Minerador de Dados!\""
      ]
    },
    {
      "cell_type": "code",
      "metadata": {
        "id": "Xa12AGzG4Bzk",
        "colab_type": "code",
        "outputId": "a9477954-bf62-48ad-95ba-0107fe1cabd5",
        "colab": {}
      },
      "source": [
        "print(\"Eu sou Minerador de Dados!\")"
      ],
      "execution_count": 0,
      "outputs": [
        {
          "output_type": "stream",
          "text": [
            "Eu sou Minerador de Dados!\n"
          ],
          "name": "stdout"
        }
      ]
    },
    {
      "cell_type": "markdown",
      "metadata": {
        "id": "mbX_XViz4Bzq",
        "colab_type": "text"
      },
      "source": [
        "2) Faça operações matemáticas de soma, subtração, multiplicação e divisão."
      ]
    },
    {
      "cell_type": "code",
      "metadata": {
        "id": "EUiQEYGb4Bzr",
        "colab_type": "code",
        "outputId": "4c702453-ad25-498b-ba83-58bfd6eb78ef",
        "colab": {}
      },
      "source": [
        "2+10"
      ],
      "execution_count": 0,
      "outputs": [
        {
          "output_type": "execute_result",
          "data": {
            "text/plain": [
              "12"
            ]
          },
          "metadata": {
            "tags": []
          },
          "execution_count": 18
        }
      ]
    },
    {
      "cell_type": "code",
      "metadata": {
        "id": "yyu4G2nn4Bzv",
        "colab_type": "code",
        "outputId": "f3b69e82-2b11-4300-baee-b6bb3fecd164",
        "colab": {}
      },
      "source": [
        "10-5"
      ],
      "execution_count": 0,
      "outputs": [
        {
          "output_type": "execute_result",
          "data": {
            "text/plain": [
              "5"
            ]
          },
          "metadata": {
            "tags": []
          },
          "execution_count": 19
        }
      ]
    },
    {
      "cell_type": "code",
      "metadata": {
        "id": "Yvrv6nqQ4Bzy",
        "colab_type": "code",
        "outputId": "c6e13c2c-c405-4c23-b3a8-a3df8608979c",
        "colab": {}
      },
      "source": [
        "10*3"
      ],
      "execution_count": 0,
      "outputs": [
        {
          "output_type": "execute_result",
          "data": {
            "text/plain": [
              "30"
            ]
          },
          "metadata": {
            "tags": []
          },
          "execution_count": 20
        }
      ]
    },
    {
      "cell_type": "code",
      "metadata": {
        "scrolled": true,
        "id": "Ttg07JxJ4Bz1",
        "colab_type": "code",
        "outputId": "b91ed99f-4055-42a2-e03b-a8548868801c",
        "colab": {}
      },
      "source": [
        "30/3"
      ],
      "execution_count": 0,
      "outputs": [
        {
          "output_type": "execute_result",
          "data": {
            "text/plain": [
              "10.0"
            ]
          },
          "metadata": {
            "tags": []
          },
          "execution_count": 21
        }
      ]
    },
    {
      "cell_type": "markdown",
      "metadata": {
        "id": "VpNKjyUE4Bz4",
        "colab_type": "text"
      },
      "source": [
        "3) Imprima o tipo de um determinado valor inteiro."
      ]
    },
    {
      "cell_type": "code",
      "metadata": {
        "id": "-vbU4HKY4Bz5",
        "colab_type": "code",
        "outputId": "ba4e6b01-6cea-4b27-a62c-313c98ce2c52",
        "colab": {}
      },
      "source": [
        "type(100)"
      ],
      "execution_count": 0,
      "outputs": [
        {
          "output_type": "execute_result",
          "data": {
            "text/plain": [
              "int"
            ]
          },
          "metadata": {
            "tags": []
          },
          "execution_count": 22
        }
      ]
    },
    {
      "cell_type": "markdown",
      "metadata": {
        "id": "Fgq992Xp4Bz8",
        "colab_type": "text"
      },
      "source": [
        "4) Converta o valor passado anteriormente para o tipo float"
      ]
    },
    {
      "cell_type": "code",
      "metadata": {
        "id": "M5rZ69sg4Bz9",
        "colab_type": "code",
        "outputId": "43c4c99d-94d5-4a67-98d8-9fc779800691",
        "colab": {}
      },
      "source": [
        "float(100)"
      ],
      "execution_count": 0,
      "outputs": [
        {
          "output_type": "execute_result",
          "data": {
            "text/plain": [
              "100.0"
            ]
          },
          "metadata": {
            "tags": []
          },
          "execution_count": 23
        }
      ]
    },
    {
      "cell_type": "markdown",
      "metadata": {
        "id": "t4i_IEFY4B0A",
        "colab_type": "text"
      },
      "source": [
        "5) Faça a conversão do valor float recebido anteriormente para o tipo string"
      ]
    },
    {
      "cell_type": "code",
      "metadata": {
        "id": "gps7NuSP4B0B",
        "colab_type": "code",
        "outputId": "6fd149fa-4f0a-4999-a832-0700ebbffbe0",
        "colab": {}
      },
      "source": [
        "str(100.0)"
      ],
      "execution_count": 0,
      "outputs": [
        {
          "output_type": "execute_result",
          "data": {
            "text/plain": [
              "'100.0'"
            ]
          },
          "metadata": {
            "tags": []
          },
          "execution_count": 24
        }
      ]
    },
    {
      "cell_type": "markdown",
      "metadata": {
        "id": "jQg5bGN34B0E",
        "colab_type": "text"
      },
      "source": [
        "6) Utilizando funções de arredonamento faça:\n",
        "- Arredonde o valor 2.898\n",
        "- Arredonde o valor 2.4545455 e exiba apenas 4 cadas decimais"
      ]
    },
    {
      "cell_type": "code",
      "metadata": {
        "id": "wj2rPkUr4B0F",
        "colab_type": "code",
        "outputId": "2d07a77a-b321-4076-9bd9-473617a1d344",
        "colab": {}
      },
      "source": [
        "round(2.898)"
      ],
      "execution_count": 0,
      "outputs": [
        {
          "output_type": "execute_result",
          "data": {
            "text/plain": [
              "3"
            ]
          },
          "metadata": {
            "tags": []
          },
          "execution_count": 25
        }
      ]
    },
    {
      "cell_type": "code",
      "metadata": {
        "id": "K2Thwsz24B0H",
        "colab_type": "code",
        "outputId": "013cc900-2bbc-436c-8887-84c9240a37e6",
        "colab": {}
      },
      "source": [
        "round(2.4545455,4)"
      ],
      "execution_count": 0,
      "outputs": [
        {
          "output_type": "execute_result",
          "data": {
            "text/plain": [
              "2.4545"
            ]
          },
          "metadata": {
            "tags": []
          },
          "execution_count": 26
        }
      ]
    },
    {
      "cell_type": "markdown",
      "metadata": {
        "id": "wv0qBLpb4B0K",
        "colab_type": "text"
      },
      "source": [
        "7) Utilizando variáveis faça:\n",
        "- Defina uma variável com o seu nome e imprima o seu valor.\n",
        "- Imprima o tipo dessa variável.\n",
        "- Substitua o valor da sua variável nome com a concatenação do seu valor e o seu sobrenome, depois, imprima o novo valor.\n",
        "    - obs: O resultado dessa variável será Nome Sobrenome, exemplo, Felipe Santana.\n",
        "- Defina duas variaveis com os valores do seu email e idade com apenas uma linha de comando, depois, imprima seus valores."
      ]
    },
    {
      "cell_type": "code",
      "metadata": {
        "id": "o7nuEwIo4B0L",
        "colab_type": "code",
        "outputId": "07b4b159-40d6-4d78-eceb-90e155dde15c",
        "colab": {}
      },
      "source": [
        "nome=\"Felipe\"\n",
        "nome"
      ],
      "execution_count": 0,
      "outputs": [
        {
          "output_type": "execute_result",
          "data": {
            "text/plain": [
              "'Felipe'"
            ]
          },
          "metadata": {
            "tags": []
          },
          "execution_count": 27
        }
      ]
    },
    {
      "cell_type": "code",
      "metadata": {
        "id": "EogRFqD44B0O",
        "colab_type": "code",
        "outputId": "17a4e548-76d7-4055-9adb-02f42905def6",
        "colab": {}
      },
      "source": [
        "type(nome)"
      ],
      "execution_count": 0,
      "outputs": [
        {
          "output_type": "execute_result",
          "data": {
            "text/plain": [
              "str"
            ]
          },
          "metadata": {
            "tags": []
          },
          "execution_count": 28
        }
      ]
    },
    {
      "cell_type": "code",
      "metadata": {
        "id": "PfGQbcaZ4B0R",
        "colab_type": "code",
        "outputId": "216baafa-b576-4ac1-ab67-58ac77e98ca6",
        "colab": {}
      },
      "source": [
        "nome += \" Santana\"\n",
        "nome"
      ],
      "execution_count": 0,
      "outputs": [
        {
          "output_type": "execute_result",
          "data": {
            "text/plain": [
              "'Felipe Santana'"
            ]
          },
          "metadata": {
            "tags": []
          },
          "execution_count": 29
        }
      ]
    },
    {
      "cell_type": "code",
      "metadata": {
        "id": "xLKSsB3S4B0T",
        "colab_type": "code",
        "outputId": "8e6566c4-aca7-455e-9f12-320329e9b03c",
        "colab": {}
      },
      "source": [
        "email, idade = 'felipesf05@gmail.com',30\n",
        "email, idade"
      ],
      "execution_count": 0,
      "outputs": [
        {
          "output_type": "execute_result",
          "data": {
            "text/plain": [
              "('felipesf05@gmail.com', 30)"
            ]
          },
          "metadata": {
            "tags": []
          },
          "execution_count": 30
        }
      ]
    },
    {
      "cell_type": "markdown",
      "metadata": {
        "id": "8JzhwYeY4B0W",
        "colab_type": "text"
      },
      "source": [
        "8) Explique a causa do erro se executar a seguinte instrução para criar uma nova variável: break=10"
      ]
    },
    {
      "cell_type": "markdown",
      "metadata": {
        "id": "x4Yjzrot4B0X",
        "colab_type": "text"
      },
      "source": [
        "Resposta: O Python não aceita declaração de variáveis utilizando palavras reservadas."
      ]
    },
    {
      "cell_type": "markdown",
      "metadata": {
        "id": "EXZY512I4B0Y",
        "colab_type": "text"
      },
      "source": [
        "9) Sobre os objetos Strings, faça:\n",
        "- Defina uma variavel com a string: \"Python é uma maldição!\" e imprima\n",
        "- Imprima o primeiro caracter da variavel.\n",
        "- Imprima os valores do primeiro caracter até o 6.\n",
        "- Faça a contagem de todos os caracteres utilizando uma única linha de comando.\n",
        "- Faça uma contagem de quantos vezes a palavra dados aparece na seguinte frase:\n",
        "    - \"dados é o novo petróleo, em Deus eu confio, para o resto me traga dados..\"\n",
        "- Substitua o primeiro caracter da frase acima para maiúsculo\n",
        "- Quebre as palavras da frase separado por virgula, criando uma lista."
      ]
    },
    {
      "cell_type": "code",
      "metadata": {
        "id": "oFuQo3Zg4B0Z",
        "colab_type": "code",
        "outputId": "0dcf43df-c561-4b5e-a5fa-57370ed2779c",
        "colab": {}
      },
      "source": [
        "frase= \"Python é uma maldição!\"\n",
        "frase"
      ],
      "execution_count": 0,
      "outputs": [
        {
          "output_type": "execute_result",
          "data": {
            "text/plain": [
              "'Python é uma maldição!'"
            ]
          },
          "metadata": {
            "tags": []
          },
          "execution_count": 31
        }
      ]
    },
    {
      "cell_type": "code",
      "metadata": {
        "id": "xE85F_lF4B0c",
        "colab_type": "code",
        "outputId": "ff572106-f081-45ef-8c0c-e68ecf575a51",
        "colab": {}
      },
      "source": [
        "frase[:6]"
      ],
      "execution_count": 0,
      "outputs": [
        {
          "output_type": "execute_result",
          "data": {
            "text/plain": [
              "'Python'"
            ]
          },
          "metadata": {
            "tags": []
          },
          "execution_count": 32
        }
      ]
    },
    {
      "cell_type": "code",
      "metadata": {
        "id": "oI8wSEBm4B0l",
        "colab_type": "code",
        "outputId": "dc5923ac-a2a0-4121-a9fc-d7003248cfc7",
        "colab": {}
      },
      "source": [
        "len(frase)"
      ],
      "execution_count": 0,
      "outputs": [
        {
          "output_type": "execute_result",
          "data": {
            "text/plain": [
              "22"
            ]
          },
          "metadata": {
            "tags": []
          },
          "execution_count": 33
        }
      ]
    },
    {
      "cell_type": "code",
      "metadata": {
        "id": "RL6kobKj4B0r",
        "colab_type": "code",
        "outputId": "85809ed6-06af-4998-92da-7027aeaa496e",
        "colab": {}
      },
      "source": [
        "frase=\"dados é o novo petróleo, em Deus eu confio, para o resto me traga dados..\"\n",
        "frase.count('dados')"
      ],
      "execution_count": 0,
      "outputs": [
        {
          "output_type": "execute_result",
          "data": {
            "text/plain": [
              "2"
            ]
          },
          "metadata": {
            "tags": []
          },
          "execution_count": 34
        }
      ]
    },
    {
      "cell_type": "code",
      "metadata": {
        "scrolled": true,
        "id": "HHNI4QbY4B0u",
        "colab_type": "code",
        "outputId": "b852c35a-e57a-4763-ea6c-b4978f5a0de5",
        "colab": {}
      },
      "source": [
        "frase.capitalize()"
      ],
      "execution_count": 0,
      "outputs": [
        {
          "output_type": "execute_result",
          "data": {
            "text/plain": [
              "'Dados é o novo petróleo, em deus eu confio, para o resto me traga dados..'"
            ]
          },
          "metadata": {
            "tags": []
          },
          "execution_count": 35
        }
      ]
    },
    {
      "cell_type": "code",
      "metadata": {
        "id": "TeT5MyRx4B0x",
        "colab_type": "code",
        "outputId": "c3ce1cfe-ec89-4849-b06d-0d5e44e65b32",
        "colab": {}
      },
      "source": [
        "frase.split(',')"
      ],
      "execution_count": 0,
      "outputs": [
        {
          "output_type": "execute_result",
          "data": {
            "text/plain": [
              "['dados é o novo petróleo',\n",
              " ' em Deus eu confio',\n",
              " ' para o resto me traga dados..']"
            ]
          },
          "metadata": {
            "tags": []
          },
          "execution_count": 36
        }
      ]
    },
    {
      "cell_type": "markdown",
      "metadata": {
        "id": "F6XtuBgG4B00",
        "colab_type": "text"
      },
      "source": [
        "10) Trabalhando com Listas, faça:\n",
        "- Cria uma lista de valores inteiros com o nome idades.\n",
        "- Imprima apenas segundo elemento da lista.\n",
        "- Imprima a contagem de valores da lista.\n",
        "- Substitua o valor do segundo elemento da lista e imprima o resultado.\n",
        "- Imprima apenas os valores do segundo elemento em diante.\n",
        "- Remova qualquer elemento da lista e imprima o resultado.\n",
        "- Defina uma lista chamada salarios com os valores : 900,1200,1500,800,12587,10000.\n",
        "- Verifique se contém o valor 10000 na lista de salarios.\n",
        "- Imprima o menor e maior valor da lista.\n",
        "- Adicione o valor 7000 a lista.\n",
        "- Extenda a lista com dois novos elementos utilizando apenas um método.\n",
        "- Imprima o índice do elemento de valor 800 da lista de salarios.\n",
        "- Faça uma ordenação dos valores da lista de salarios em ordem crescente e decrescente."
      ]
    },
    {
      "cell_type": "code",
      "metadata": {
        "id": "jYePWy2h4B01",
        "colab_type": "code",
        "colab": {}
      },
      "source": [
        "idades = [18,22,45,38,78,25]"
      ],
      "execution_count": 0,
      "outputs": []
    },
    {
      "cell_type": "code",
      "metadata": {
        "id": "b0X7mtqx4B04",
        "colab_type": "code",
        "outputId": "1fc35e0d-f40c-4f7f-91a0-8d761e470d1b",
        "colab": {}
      },
      "source": [
        "idades[1]"
      ],
      "execution_count": 0,
      "outputs": [
        {
          "output_type": "execute_result",
          "data": {
            "text/plain": [
              "22"
            ]
          },
          "metadata": {
            "tags": []
          },
          "execution_count": 38
        }
      ]
    },
    {
      "cell_type": "code",
      "metadata": {
        "id": "cHhvMoEc4B07",
        "colab_type": "code",
        "outputId": "37cc424a-8941-4a29-c590-ea8c679f6993",
        "colab": {}
      },
      "source": [
        "len(idades)"
      ],
      "execution_count": 0,
      "outputs": [
        {
          "output_type": "execute_result",
          "data": {
            "text/plain": [
              "6"
            ]
          },
          "metadata": {
            "tags": []
          },
          "execution_count": 39
        }
      ]
    },
    {
      "cell_type": "code",
      "metadata": {
        "id": "aZkyAGKo4B0-",
        "colab_type": "code",
        "outputId": "fbe90d66-fc0e-489f-aad4-48343530df15",
        "colab": {}
      },
      "source": [
        "idades[1] = 30\n",
        "idades"
      ],
      "execution_count": 0,
      "outputs": [
        {
          "output_type": "execute_result",
          "data": {
            "text/plain": [
              "[18, 30, 45, 38, 78, 25]"
            ]
          },
          "metadata": {
            "tags": []
          },
          "execution_count": 40
        }
      ]
    },
    {
      "cell_type": "code",
      "metadata": {
        "id": "ZqFoR2s_4B1B",
        "colab_type": "code",
        "outputId": "ead5edd7-6dca-4c20-c82a-d85b50e129ee",
        "colab": {}
      },
      "source": [
        "idades[1:]"
      ],
      "execution_count": 0,
      "outputs": [
        {
          "output_type": "execute_result",
          "data": {
            "text/plain": [
              "[30, 45, 38, 78, 25]"
            ]
          },
          "metadata": {
            "tags": []
          },
          "execution_count": 41
        }
      ]
    },
    {
      "cell_type": "code",
      "metadata": {
        "id": "d47d6Xzn4B1E",
        "colab_type": "code",
        "colab": {}
      },
      "source": [
        "idades.remove(30)"
      ],
      "execution_count": 0,
      "outputs": []
    },
    {
      "cell_type": "code",
      "metadata": {
        "id": "BH8CND4w4B1G",
        "colab_type": "code",
        "colab": {}
      },
      "source": [
        "salarios = [900,1200,1500,800,12587,10000]"
      ],
      "execution_count": 0,
      "outputs": []
    },
    {
      "cell_type": "code",
      "metadata": {
        "id": "AgZBUYlv4B1J",
        "colab_type": "code",
        "outputId": "c6ff60ef-a967-4f98-837e-e0faa87838f1",
        "colab": {}
      },
      "source": [
        "10000 in salarios"
      ],
      "execution_count": 0,
      "outputs": [
        {
          "output_type": "execute_result",
          "data": {
            "text/plain": [
              "True"
            ]
          },
          "metadata": {
            "tags": []
          },
          "execution_count": 47
        }
      ]
    },
    {
      "cell_type": "code",
      "metadata": {
        "id": "H1IUWY_74B1M",
        "colab_type": "code",
        "outputId": "b7089dc5-b0f1-4a6d-af41-2ffaceac7e20",
        "colab": {}
      },
      "source": [
        "max(salarios)"
      ],
      "execution_count": 0,
      "outputs": [
        {
          "output_type": "execute_result",
          "data": {
            "text/plain": [
              "12587"
            ]
          },
          "metadata": {
            "tags": []
          },
          "execution_count": 45
        }
      ]
    },
    {
      "cell_type": "code",
      "metadata": {
        "id": "xc3D5MWr4B1P",
        "colab_type": "code",
        "outputId": "d53e5f52-b1eb-445b-dde2-f4fa4cf20af1",
        "colab": {}
      },
      "source": [
        "min(salarios)"
      ],
      "execution_count": 0,
      "outputs": [
        {
          "output_type": "execute_result",
          "data": {
            "text/plain": [
              "800"
            ]
          },
          "metadata": {
            "tags": []
          },
          "execution_count": 46
        }
      ]
    },
    {
      "cell_type": "code",
      "metadata": {
        "id": "ZYln2Pgo4B1S",
        "colab_type": "code",
        "outputId": "0af9f087-af2f-4ce8-e6d3-79e6c47873f8",
        "colab": {}
      },
      "source": [
        "salarios.remove(1100)\n",
        "salarios"
      ],
      "execution_count": 0,
      "outputs": [
        {
          "output_type": "execute_result",
          "data": {
            "text/plain": [
              "[900, 1200, 1500, 800, 12587, 10000, 700, 990, 1100]"
            ]
          },
          "metadata": {
            "tags": []
          },
          "execution_count": 63
        }
      ]
    },
    {
      "cell_type": "code",
      "metadata": {
        "id": "gh6nejpP4B1U",
        "colab_type": "code",
        "outputId": "8f749dc7-9c5c-4cfb-9220-7b96587410e6",
        "colab": {}
      },
      "source": [
        "salarios.extend([990,1100])\n",
        "salarios"
      ],
      "execution_count": 0,
      "outputs": [
        {
          "output_type": "execute_result",
          "data": {
            "text/plain": [
              "[900, 1200, 1500, 800, 12587, 10000, 700, 1100, 990, 990, 1100]"
            ]
          },
          "metadata": {
            "tags": []
          },
          "execution_count": 61
        }
      ]
    },
    {
      "cell_type": "code",
      "metadata": {
        "id": "IZ_wvVN-4B1X",
        "colab_type": "code",
        "outputId": "d5a65fe9-723a-4af1-c2c6-618dce9c9a1d",
        "colab": {}
      },
      "source": [
        "salarios.index(800)"
      ],
      "execution_count": 0,
      "outputs": [
        {
          "output_type": "execute_result",
          "data": {
            "text/plain": [
              "3"
            ]
          },
          "metadata": {
            "tags": []
          },
          "execution_count": 64
        }
      ]
    },
    {
      "cell_type": "code",
      "metadata": {
        "id": "maouHnP44B1a",
        "colab_type": "code",
        "outputId": "a6bc3331-974f-4cee-bfa9-e9a3910fbb17",
        "colab": {}
      },
      "source": [
        "salarios.sort()\n",
        "salarios"
      ],
      "execution_count": 0,
      "outputs": [
        {
          "output_type": "execute_result",
          "data": {
            "text/plain": [
              "[700, 800, 900, 990, 1100, 1200, 1500, 10000, 12587]"
            ]
          },
          "metadata": {
            "tags": []
          },
          "execution_count": 66
        }
      ]
    },
    {
      "cell_type": "code",
      "metadata": {
        "id": "BetE55Xi4B1e",
        "colab_type": "code",
        "outputId": "1afcf9ed-8421-40b6-e2d1-56e2f22e2da0",
        "colab": {}
      },
      "source": [
        "salarios.sort(reverse=True)\n",
        "salarios"
      ],
      "execution_count": 0,
      "outputs": [
        {
          "output_type": "execute_result",
          "data": {
            "text/plain": [
              "[12587, 10000, 1500, 1200, 1100, 990, 900, 800, 700]"
            ]
          },
          "metadata": {
            "tags": []
          },
          "execution_count": 67
        }
      ]
    }
  ]
}